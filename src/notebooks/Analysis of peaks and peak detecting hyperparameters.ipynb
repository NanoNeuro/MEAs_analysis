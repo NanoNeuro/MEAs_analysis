{
 "cells": [
  {
   "attachments": {},
   "cell_type": "markdown",
   "metadata": {},
   "source": [
    "# Part 1/2: Comparison of MEAs automatic peak detection vs peak detection from spikeinterface\n",
    "\n",
    "In this notebook we are going to compare the peaks detected by the MEAs machine against the peaks detected by spikeinterface using default parameters."
   ]
  },
  {
   "cell_type": "code",
   "execution_count": null,
   "metadata": {},
   "outputs": [],
   "source": [
    "from datetime import datetime\n",
    "\n",
    "import matplotlib.pyplot as plt\n",
    "import matplotlib as mpl\n",
    "import numpy as np\n",
    "\n",
    "import os\n",
    "\n",
    "import pandas as pd\n",
    "from probeinterface.plotting import plot_probe\n",
    "\n",
    "import random\n",
    "import string\n",
    "import sys\n",
    "import shutil\n",
    "\n",
    "import spikeinterface.full as si  # import core only\n",
    "import spikeinterface.extractors as se\n",
    "import spikeinterface.preprocessing as spre\n",
    "import spikeinterface.sorters as ss\n",
    "import spikeinterface.postprocessing as spost\n",
    "import spikeinterface.qualitymetrics as sqm\n",
    "import spikeinterface.comparison as sc\n",
    "import spikeinterface.exporters as sexp\n",
    "import spikeinterface.curation as scur\n",
    "import spikeinterface.widgets as sw\n",
    "from spikeinterface.sortingcomponents.peak_detection import detect_peaks\n",
    "from spikeinterface.sortingcomponents.peak_localization import localize_peaks\n",
    "from spikeinterface.sortingcomponents.clustering import find_cluster_from_peaks\n"
   ]
  },
  {
   "cell_type": "code",
   "execution_count": null,
   "metadata": {},
   "outputs": [],
   "source": [
    "%load_ext autoreload\n",
    "%autoreload 2"
   ]
  },
  {
   "cell_type": "code",
   "execution_count": null,
   "metadata": {},
   "outputs": [],
   "source": [
    "module_path = os.path.abspath(os.path.join('..'))\n",
    "if module_path not in sys.path:\n",
    "    sys.path.append(module_path)\n",
    "\n",
    "from py_functions.spikeinterface_processing import load_recording_from_raw_independent_channels, load_probe_recording, load_recording_from_raw"
   ]
  },
  {
   "cell_type": "code",
   "execution_count": null,
   "metadata": {},
   "outputs": [],
   "source": [
    "global_job_kwargs = dict(n_jobs=10, chunk_duration=\"1s\", progress_bar=False)\n",
    "si.set_global_job_kwargs(**global_job_kwargs)\n",
    "plt.rcParams['figure.dpi'] = 250"
   ]
  },
  {
   "cell_type": "code",
   "execution_count": null,
   "metadata": {},
   "outputs": [],
   "source": [
    "# RUN PARAMS\n",
    "ROOT = '/data/Proyectos/Nanoneuro/data/NeurTime/'\n",
    "SAMPLE_BASE = 'D13.postsiembra.p2(000)'\n",
    "well = (2, 3)\n",
    "time_samplings_to_mask = []\n",
    "type_MEAS = 16  # 16 or 64\n",
    "\n",
    "session_token = datetime.now().strftime(\"%y-%m-%d\") + '_' + \\\n",
    "                ''.join(random.choice(string.ascii_letters) for i in range(8))"
   ]
  },
  {
   "attachments": {},
   "cell_type": "markdown",
   "metadata": {},
   "source": [
    "## Dataset loading & preprocesing"
   ]
  },
  {
   "cell_type": "code",
   "execution_count": null,
   "metadata": {},
   "outputs": [],
   "source": [
    "# Recording of RAW data\n",
    "\n",
    "recording = load_recording_from_raw(root=ROOT, sample_base=SAMPLE_BASE, well=well, time_samplings_to_mask=time_samplings_to_mask)\n",
    "load_probe_recording(recording, type_MEAS=type_MEAS)"
   ]
  },
  {
   "cell_type": "code",
   "execution_count": null,
   "metadata": {},
   "outputs": [],
   "source": [
    "recording_bin = recording.save(n_jobs=8, chunk_duration=\"1s\", folder=f'{ROOT}/tmp/bin_{session_token}')\n",
    "recording_f = spre.bandpass_filter(recording_bin, freq_min=300, freq_max=5000)\n",
    "recording_cmr = spre.common_reference(recording_f, reference='global', operator='median')"
   ]
  },
  {
   "cell_type": "code",
   "execution_count": null,
   "metadata": {},
   "outputs": [],
   "source": [
    "noise_levels = si.get_noise_levels(recording_cmr, return_scaled=False)\n",
    "\n",
    "\n",
    "peaks = detect_peaks(recording_cmr,\n",
    "                        method='by_channel',\n",
    "                        peak_sign='both', \n",
    "                        detect_threshold=6,\n",
    "                        noise_levels=noise_levels,\n",
    "                        exclude_sweep_ms=2,\n",
    "                        **global_job_kwargs)\n",
    "    \n"
   ]
  },
  {
   "cell_type": "code",
   "execution_count": null,
   "metadata": {},
   "outputs": [],
   "source": [
    "dict_peaktraces = {}\n",
    "\n",
    "for idx, channel_id in enumerate(recording_cmr.get_channel_ids()):\n",
    "    dict_peaktraces[channel_id] = np.array([i[0] for i in peaks if i[1] == idx ])"
   ]
  },
  {
   "attachments": {},
   "cell_type": "markdown",
   "metadata": {},
   "source": [
    "# Trace loading from spk\n",
    "\n",
    "Each spk file contains 39 timepoints, 13 before the spike point (1 ms) and 26 after (2 ms)\n",
    "We are going to get the 13th timepoint -> multiply it by frame store it."
   ]
  },
  {
   "cell_type": "code",
   "execution_count": null,
   "metadata": {},
   "outputs": [],
   "source": [
    "dict_spktraces = {}\n",
    "\n",
    "for Erow in range(1,10):  \n",
    "    for Ecol in range(1,10):\n",
    "        filename = f'{ROOT}/{SAMPLE_BASE}/{well[0]}-{well[1]}-{Erow}-{Ecol}_timeSpk'\n",
    "        is_txt, is_gzip = os.path.exists(f'{filename}.txt'), os.path.exists(f'{filename}.txt.gz') \n",
    "\n",
    "        if is_txt or is_gzip:                \n",
    "            if is_txt:\n",
    "                list_peaks = np.loadtxt(f'{filename}.txt', delimiter=',')\n",
    "            elif is_gzip:\n",
    "                list_peaks = np.loadtxt(f'{filename}.txt.gz', delimiter=',')\n",
    "\n",
    "\n",
    "            list_peaks = (list_peaks[12, :] * 12500).astype(int)\n",
    "            dict_spktraces[f'{Erow}-{Ecol}'] = list_peaks"
   ]
  },
  {
   "attachments": {},
   "cell_type": "markdown",
   "metadata": {},
   "source": [
    "# Comparing traces"
   ]
  },
  {
   "cell_type": "code",
   "execution_count": null,
   "metadata": {},
   "outputs": [],
   "source": [
    "df_count = pd.DataFrame({'Spk': [len(i) for i in dict_spktraces.values()], 'Peaks': [len(i) for i in dict_peaktraces.values()]}, index=recording_cmr.get_channel_ids())\n",
    "df_count.plot.bar()"
   ]
  },
  {
   "cell_type": "code",
   "execution_count": null,
   "metadata": {},
   "outputs": [],
   "source": [
    "# Channel-specific comparison\n",
    "channel_id = 2\n",
    "channel = recording_cmr.get_channel_ids()[channel_id]\n",
    "print(channel)\n",
    "freq = 12500\n",
    "\n",
    "\n",
    "trace_spk = dict_spktraces[channel] / freq\n",
    "trace_peak = dict_peaktraces[channel] / freq\n",
    "\n",
    "trace = recording_cmr.get_traces()[:, channel_id].ravel()"
   ]
  },
  {
   "cell_type": "code",
   "execution_count": null,
   "metadata": {},
   "outputs": [],
   "source": [
    "plt.scatter(trace_spk, [-1] * len(trace_spk), marker='|')\n",
    "plt.scatter(trace_peak, [1] * len(trace_peak), marker='|')\n",
    "plt.plot(np.arange(len(trace))/freq, trace/np.max(np.abs(trace)), linewidth=1)\n",
    "\n",
    "\n",
    "plt.xlim([0, 30])"
   ]
  },
  {
   "attachments": {},
   "cell_type": "markdown",
   "metadata": {},
   "source": [
    "# Part 2/2: analysis of peak detection hyperparameters"
   ]
  },
  {
   "cell_type": "code",
   "execution_count": null,
   "metadata": {},
   "outputs": [],
   "source": [
    "t = 5\n",
    "\n",
    "peaks_ms1 = detect_peaks(recording_cmr,\n",
    "                        method='by_channel',\n",
    "                        peak_sign='neg', \n",
    "                        detect_threshold=t,\n",
    "                        noise_levels=noise_levels,\n",
    "                        exclude_sweep_ms=1,\n",
    "                        **global_job_kwargs)\n",
    "peaks_ms1 = [i[0]/freq for i in peaks_ms1 if i[1] == channel_id]\n",
    "\n",
    "peaks_ms5 = detect_peaks(recording_cmr,\n",
    "                        method='by_channel',\n",
    "                        peak_sign='neg', \n",
    "                        detect_threshold=t,\n",
    "                        noise_levels=noise_levels,\n",
    "                        exclude_sweep_ms=5,\n",
    "                        **global_job_kwargs)\n",
    "peaks_ms5 = [i[0]/freq for i in peaks_ms5 if i[1] == channel_id]\n",
    "\n",
    "peaks_ms20 = detect_peaks(recording_cmr,\n",
    "                        method='by_channel',\n",
    "                        peak_sign='neg', \n",
    "                        detect_threshold=t,\n",
    "                        noise_levels=noise_levels,\n",
    "                        exclude_sweep_ms=20,\n",
    "                        **global_job_kwargs)\n",
    "peaks_ms20 = [i[0]/freq for i in peaks_ms20 if i[1] == channel_id]\n"
   ]
  },
  {
   "cell_type": "code",
   "execution_count": null,
   "metadata": {},
   "outputs": [],
   "source": [
    "len(peaks_ms1), len(peaks_ms5), len(peaks_ms20)"
   ]
  },
  {
   "cell_type": "code",
   "execution_count": null,
   "metadata": {},
   "outputs": [],
   "source": [
    "plt.scatter(peaks_ms20, [1.2] * len(peaks_ms20), marker='|')\n",
    "plt.scatter(peaks_ms5, [1.1] * len(peaks_ms5), marker='|')\n",
    "plt.scatter(peaks_ms1, [1] * len(peaks_ms1), marker='|')\n",
    "\n",
    "plt.plot(np.arange(len(trace))/freq, trace/np.max(np.abs(trace)), linewidth=1)\n",
    "plt.plot([0, len(trace)/freq], [-noise_levels[channel_id] * t /np.max(np.abs(trace)) ] * 2, linewidth=1)\n",
    "\n",
    "\n",
    "plt.xlim([37, 37.3])"
   ]
  }
 ],
 "metadata": {
  "kernelspec": {
   "display_name": "nanoneuro",
   "language": "python",
   "name": "python3"
  },
  "language_info": {
   "codemirror_mode": {
    "name": "ipython",
    "version": 3
   },
   "file_extension": ".py",
   "mimetype": "text/x-python",
   "name": "python",
   "nbconvert_exporter": "python",
   "pygments_lexer": "ipython3",
   "version": "3.11.4"
  },
  "orig_nbformat": 4
 },
 "nbformat": 4,
 "nbformat_minor": 2
}
