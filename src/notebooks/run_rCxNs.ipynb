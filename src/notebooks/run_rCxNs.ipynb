{
 "cells": [
  {
   "cell_type": "code",
   "execution_count": null,
   "metadata": {},
   "outputs": [],
   "source": [
    "from datetime import datetime\n",
    "\n",
    "import matplotlib.pyplot as plt\n",
    "import matplotlib as mpl\n",
    "import numpy as np\n",
    "\n",
    "import os\n",
    "\n",
    "import pandas as pd\n",
    "from probeinterface.plotting import plot_probe\n",
    "\n",
    "import random\n",
    "import string\n",
    "import sys\n",
    "import shutil\n",
    "\n",
    "import spikeinterface.full as si  # import core only\n",
    "import spikeinterface.extractors as se\n",
    "import spikeinterface.preprocessing as spre\n",
    "import spikeinterface.sorters as ss\n",
    "import spikeinterface.postprocessing as spost\n",
    "import spikeinterface.qualitymetrics as sqm\n",
    "import spikeinterface.comparison as sc\n",
    "import spikeinterface.exporters as sexp\n",
    "import spikeinterface.curation as scur\n",
    "import spikeinterface.widgets as sw\n",
    "from spikeinterface.sortingcomponents.peak_detection import detect_peaks\n",
    "from spikeinterface.sortingcomponents.peak_localization import localize_peaks"
   ]
  },
  {
   "cell_type": "code",
   "execution_count": null,
   "metadata": {},
   "outputs": [],
   "source": [
    "module_path = os.path.abspath(os.path.join('..'))\n",
    "if module_path not in sys.path:\n",
    "    sys.path.append(module_path)\n",
    "\n",
    "from py_functions.spikeinterface_processing import load_recording_from_raw, load_probe_recording"
   ]
  },
  {
   "cell_type": "code",
   "execution_count": null,
   "metadata": {},
   "outputs": [],
   "source": [
    "global_job_kwargs = dict(n_jobs=10, chunk_duration=\"1s\")\n",
    "si.set_global_job_kwargs(**global_job_kwargs)\n",
    "plt.rcParams['figure.dpi'] = 250"
   ]
  },
  {
   "cell_type": "code",
   "execution_count": null,
   "metadata": {},
   "outputs": [],
   "source": [
    "# RUN PARAMS\n",
    "ROOT = '/data/Proyectos/Nanoneuro/data/rCxNs/'\n",
    "SAMPLE_BASE = 'p2.+-1000mV.500us(000)'\n",
    "well = (2, 3)\n",
    "time_samplings_to_mask = [(1.07, 1.075), (3.07, 3.075), (5.07, 5.075), (7.07, 7.075)]\n",
    "type_MEAS = 16  # 16 or 64\n",
    "\n",
    "session_token = datetime.now().strftime(\"%y-%m-%d\") + '_' + \\\n",
    "                ''.join(random.choice(string.ascii_letters) for i in range(8))"
   ]
  },
  {
   "attachments": {},
   "cell_type": "markdown",
   "metadata": {},
   "source": [
    "## Dataset loading & preprocesing"
   ]
  },
  {
   "cell_type": "code",
   "execution_count": null,
   "metadata": {},
   "outputs": [],
   "source": [
    "recording = load_recording_from_raw(root=ROOT, sample_base=SAMPLE_BASE, well=well, time_samplings_to_mask=time_samplings_to_mask)\n",
    "load_probe_recording(recording=recording, type_MEAS=type_MEAS)"
   ]
  },
  {
   "cell_type": "code",
   "execution_count": null,
   "metadata": {},
   "outputs": [],
   "source": [
    "recording_bin = recording.save(n_jobs=8, chunk_duration=\"1s\", folder=f'{ROOT}/tmp/bin_{session_token}')\n",
    "\n",
    "recording_f = spre.bandpass_filter(recording_bin, freq_min=300, freq_max=5000)\n",
    "\n",
    "recording_cmr = spre.common_reference(recording_f, reference='global', operator='median')"
   ]
  },
  {
   "cell_type": "code",
   "execution_count": null,
   "metadata": {},
   "outputs": [],
   "source": [
    "recording_cmr"
   ]
  },
  {
   "cell_type": "code",
   "execution_count": null,
   "metadata": {},
   "outputs": [],
   "source": [
    "si.plot_timeseries(recording_cmr)\n"
   ]
  },
  {
   "attachments": {},
   "cell_type": "markdown",
   "metadata": {},
   "source": [
    "## Peak detection"
   ]
  },
  {
   "cell_type": "code",
   "execution_count": null,
   "metadata": {},
   "outputs": [],
   "source": [
    "# Noise detection - we use this beforehand to later use in peak detection\n",
    "\n",
    "noise_levels = si.get_noise_levels(recording_cmr, return_scaled=False)\n",
    "\n",
    "plt.hist(noise_levels)\n",
    "plt.xlabel('noise  [uV]')"
   ]
  },
  {
   "cell_type": "code",
   "execution_count": null,
   "metadata": {},
   "outputs": [],
   "source": [
    "local_radius = 150   # circle radius x 3"
   ]
  },
  {
   "cell_type": "code",
   "execution_count": null,
   "metadata": {},
   "outputs": [],
   "source": [
    "peaks = detect_peaks(recording_cmr,\n",
    "                     method='locally_exclusive',\n",
    "                     local_radius_um=local_radius, \n",
    "                     detect_threshold=5,\n",
    "                     noise_levels=noise_levels,\n",
    "                    **global_job_kwargs)\n",
    "\n",
    "peaks.shape"
   ]
  },
  {
   "attachments": {},
   "cell_type": "markdown",
   "metadata": {},
   "source": [
    "## Peak sorting"
   ]
  },
  {
   "cell_type": "code",
   "execution_count": null,
   "metadata": {},
   "outputs": [],
   "source": [
    "recording_cmr"
   ]
  },
  {
   "cell_type": "code",
   "execution_count": null,
   "metadata": {},
   "outputs": [],
   "source": [
    "sorting_TRDC2 = ss.run_sorter('tridesclous2', recording=recording_cmr, \n",
    "                              output_folder=f'{ROOT}/tmp/TRDC2_{session_token}', \n",
    "                              docker_image=False, \n",
    "                              apply_preprocessing=False)\n",
    "\n",
    "print('Units found by tridesclous2:', sorting_TRDC2.get_unit_ids())"
   ]
  },
  {
   "cell_type": "code",
   "execution_count": null,
   "metadata": {},
   "outputs": [],
   "source": [
    "sorting_MS4 = ss.run_sorter('mountainsort4', recording=recording_cmr, output_folder=f'{ROOT}/tmp/MS5_{session_token}', docker_image=False)\n",
    "print('Units found by mountainsort4:', sorting_MS4.get_unit_ids())"
   ]
  },
  {
   "cell_type": "code",
   "execution_count": null,
   "metadata": {},
   "outputs": [],
   "source": [
    "sorting_SPCR2 = ss.run_sorter('spykingcircus2', recording=recording_cmr, output_folder=f'{ROOT}/tmp/SPRC2_{session_token}', docker_image=False)\n",
    "print('Units found by spykingcircus2:', sorting_SPCR2.get_unit_ids())"
   ]
  },
  {
   "cell_type": "code",
   "execution_count": null,
   "metadata": {},
   "outputs": [],
   "source": [
    "sorting_pyKS = ss.run_sorter('pykilosort', recording=recording_cmr, output_folder=f'{ROOT}/tmp/pyKS_{session_token}', \n",
    "                             docker_image=True) \n",
    "print('Units found by pykilosort:', sorting_pyKS.get_unit_ids())"
   ]
  },
  {
   "cell_type": "code",
   "execution_count": null,
   "metadata": {},
   "outputs": [],
   "source": []
  },
  {
   "cell_type": "code",
   "execution_count": null,
   "metadata": {},
   "outputs": [],
   "source": [
    "we = si.extract_waveforms(recording_cmr, sorting_TRDC2, folder=f'{ROOT}/tmp/TRDC2_WF_{session_token}',load_if_exists=True,\n",
    "    ms_before=1, ms_after=2., max_spikes_per_unit=500,\n",
    "    n_jobs=1, chunk_size=30000)\n"
   ]
  },
  {
   "cell_type": "code",
   "execution_count": null,
   "metadata": {},
   "outputs": [],
   "source": [
    "sw.plot_unit_waveforms(we)\n"
   ]
  },
  {
   "cell_type": "code",
   "execution_count": null,
   "metadata": {},
   "outputs": [],
   "source": []
  }
 ],
 "metadata": {
  "kernelspec": {
   "display_name": "nanoneuro",
   "language": "python",
   "name": "python3"
  },
  "language_info": {
   "codemirror_mode": {
    "name": "ipython",
    "version": 3
   },
   "file_extension": ".py",
   "mimetype": "text/x-python",
   "name": "python",
   "nbconvert_exporter": "python",
   "pygments_lexer": "ipython3",
   "version": "3.11.4"
  },
  "orig_nbformat": 4
 },
 "nbformat": 4,
 "nbformat_minor": 2
}
