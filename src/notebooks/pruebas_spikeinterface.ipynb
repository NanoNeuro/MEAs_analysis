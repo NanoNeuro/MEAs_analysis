{
 "cells": [
  {
   "attachments": {},
   "cell_type": "markdown",
   "metadata": {},
   "source": [
    "# Obtaining an optimal spike sorting strategy"
   ]
  },
  {
   "cell_type": "code",
   "execution_count": null,
   "metadata": {},
   "outputs": [],
   "source": [
    "from datetime import datetime\n",
    "\n",
    "import matplotlib.pyplot as plt\n",
    "import matplotlib as mpl\n",
    "import numpy as np\n",
    "\n",
    "import os\n",
    "\n",
    "import pandas as pd\n",
    "from probeinterface.plotting import plot_probe\n",
    "\n",
    "import random\n",
    "import string\n",
    "import sys\n",
    "import shutil\n",
    "\n",
    "import spikeinterface.full as si  # import core only\n",
    "import spikeinterface.extractors as se\n",
    "import spikeinterface.preprocessing as spre\n",
    "import spikeinterface.sorters as ss\n",
    "import spikeinterface.postprocessing as spost\n",
    "import spikeinterface.qualitymetrics as sqm\n",
    "import spikeinterface.comparison as sc\n",
    "import spikeinterface.exporters as sexp\n",
    "import spikeinterface.curation as scur\n",
    "import spikeinterface.widgets as sw\n",
    "from spikeinterface.sortingcomponents.peak_detection import detect_peaks\n",
    "from spikeinterface.sortingcomponents.peak_localization import localize_peaks\n",
    "from spikeinterface.sortingcomponents.clustering import find_cluster_from_peaks\n"
   ]
  },
  {
   "cell_type": "code",
   "execution_count": null,
   "metadata": {},
   "outputs": [],
   "source": [
    "%load_ext autoreload\n",
    "%autoreload 2"
   ]
  },
  {
   "cell_type": "code",
   "execution_count": null,
   "metadata": {},
   "outputs": [],
   "source": [
    "module_path = os.path.abspath(os.path.join('..'))\n",
    "if module_path not in sys.path:\n",
    "    sys.path.append(module_path)\n",
    "\n",
    "from py_functions.spikeinterface_processing import load_recording_from_raw_independent_channels, load_probe_recording, load_recording_from_raw"
   ]
  },
  {
   "cell_type": "code",
   "execution_count": null,
   "metadata": {},
   "outputs": [],
   "source": [
    "global_job_kwargs = dict(n_jobs=10, chunk_duration=\"1s\", progress_bar=False)\n",
    "si.set_global_job_kwargs(**global_job_kwargs)\n",
    "plt.rcParams['figure.dpi'] = 250"
   ]
  },
  {
   "cell_type": "code",
   "execution_count": null,
   "metadata": {},
   "outputs": [],
   "source": [
    "# RUN PARAMS\n",
    "ROOT = '/mnt/c/Users/alexm/OneDrive/EBRAINS/MEAs_analysis/data/'\n",
    "SAMPLE_BASE = 'D109'\n",
    "well = (1, 1)\n",
    "time_samplings_to_mask = []\n",
    "type_MEAS = 16  # 16 or 64\n",
    "\n",
    "session_token = datetime.now().strftime(\"%y-%m-%d\") + '_' + \\\n",
    "                ''.join(random.choice(string.ascii_letters) for i in range(8))"
   ]
  },
  {
   "cell_type": "markdown",
   "metadata": {},
   "source": [
    "## Dataset loading & preprocesing"
   ]
  },
  {
   "cell_type": "code",
   "execution_count": null,
   "metadata": {},
   "outputs": [],
   "source": [
    "recording = load_recording_from_raw(root=ROOT, sample_base=SAMPLE_BASE, well=well, time_samplings_to_mask=time_samplings_to_mask)\n",
    "load_probe_recording(recording=recording, type_MEAS=type_MEAS)"
   ]
  },
  {
   "cell_type": "code",
   "execution_count": null,
   "metadata": {},
   "outputs": [],
   "source": [
    "recording_bin = recording.save(n_jobs=8, chunk_duration=\"10s\", folder=f'{ROOT}/tmp/bin_{session_token}')\n",
    "\n",
    "recording_f = spre.bandpass_filter(recording_bin, freq_min=300, freq_max=5000)\n",
    "\n",
    "recording_cmr = spre.common_reference(recording_f, reference='global', operator='median')"
   ]
  },
  {
   "cell_type": "code",
   "execution_count": null,
   "metadata": {},
   "outputs": [],
   "source": [
    "recording_cmr"
   ]
  },
  {
   "cell_type": "code",
   "execution_count": null,
   "metadata": {},
   "outputs": [],
   "source": [
    "si.plot_timeseries(recording_cmr)\n"
   ]
  },
  {
   "attachments": {},
   "cell_type": "markdown",
   "metadata": {},
   "source": [
    "## Getting the frequency signals to perform the bandpass filtering\n",
    "\n",
    "One of the steps of the signal processing pipeline is to perform a bandpass filtering on the MEA raw data. The idea is that there are lower and higher frequencies that give different information depending on the aim of the study. Lower frequencies (< 300 Hz) contain more general information (low-frequency oscilations), and also a 50 Hz power line noise [10.1002/advs.202004434]. On the other hand, higher frequencies (300 - 5000 Hz) tend to record information about the spikes. Usually bandpass filters between 300 and 3000 Hz are used.\n",
    "\n",
    "To view the effect of the the frequencies on the signal data, we are going to use the FFT to view the frequency spectra of the data."
   ]
  },
  {
   "cell_type": "code",
   "execution_count": null,
   "metadata": {},
   "outputs": [],
   "source": [
    "from scipy.fft import fft, fftfreq\n",
    "from scipy.signal import savgol_filter\n",
    "\n",
    "fig, axs = plt.subplots(2, 1, figsize=(10, 8))\n",
    "\n",
    "N = recording.get_traces().shape[0]\n",
    "T = 1 / recording.sampling_frequency\n",
    "\n",
    "plot_range, plot_range_short = 130000, 4500\n",
    "\n",
    "for i in range(0, recording.get_traces().shape[1], 2):\n",
    "    yf = fft(recording.get_traces()[:, i])\n",
    "    yf_rev = 2.0/N * np.abs(yf[0:N//2])\n",
    "    yf_sav = savgol_filter(yf_rev, 500, 3) # window size 500, polynomial order 3\n",
    "    yf_sav_norm = (yf_sav - np.min(yf_sav)) / (np.max(yf_sav) - np.min(yf_sav))\n",
    "\n",
    "    xf = fftfreq(N, T)[:N//2]\n",
    "\n",
    "    axs[0].plot(xf[:plot_range], (yf_sav_norm)[:plot_range], label=i, c=mpl.colormaps['tab20'](i))\n",
    "    axs[1].plot(xf[:plot_range_short], (yf_sav_norm)[:plot_range_short], label=i, c=mpl.colormaps['tab20'](i))\n",
    "\n",
    "    plt.legend(bbox_to_anchor=(1.1, 1.05))\n",
    "\n",
    "axs[1].plot([50, 50], [0, 1], c='#000000')\n",
    "\n"
   ]
  },
  {
   "attachments": {},
   "cell_type": "markdown",
   "metadata": {},
   "source": [
    "We can see the 50 Hz power line signal (black line) is there, as well as frequencies in the range of 70-270, that correspond to low frequencies. From 300 Hz onwards we see that the strength of the signal decays, with a minimum in ~5000 Hz. To see that effect, we are going to plot a tiny section of the data, and the effect of bandpass filtering in 10-70, 70-300, 300-3000, and 3000-5000 to see how the data is composed of these band signals."
   ]
  },
  {
   "cell_type": "code",
   "execution_count": null,
   "metadata": {},
   "outputs": [],
   "source": [
    "time_range = (1.114, 1.118)\n",
    "\n",
    "fig, axs = plt.subplots(2, 3)\n",
    "\n",
    "\n",
    "sw.plot_timeseries(sample_recording, time_range=time_range, ax=axs.ravel()[0], channel_ids=channel_ids[::2])\n",
    "\n",
    "recording_f = spre.bandpass_filter(sample_recording, freq_min=10, freq_max=70)\n",
    "sw.plot_timeseries(recording_f, time_range=time_range, ax=axs.ravel()[1], channel_ids=channel_ids[::2])\n",
    "\n",
    "recording_f = spre.bandpass_filter(sample_recording, freq_min=70, freq_max=300)\n",
    "sw.plot_timeseries(recording_f, time_range=time_range, ax=axs.ravel()[2], channel_ids=channel_ids[::2])\n",
    "\n",
    "recording_f = spre.bandpass_filter(sample_recording, freq_min=300, freq_max=3000)\n",
    "sw.plot_timeseries(recording_f, time_range=time_range, ax=axs.ravel()[4], channel_ids=channel_ids[::2])\n",
    "\n",
    "recording_f = spre.bandpass_filter(sample_recording, freq_min=3000, freq_max=5000)\n",
    "sw.plot_timeseries(recording_f, time_range=time_range, ax=axs.ravel()[5], channel_ids=channel_ids[::2])\n",
    "\n",
    "\n",
    "for ax in axs.ravel():\n",
    "    ax.get_yaxis().set_visible(False)\n",
    "    ax.set_xticks(time_range)\n",
    "axs[1, 0].set_axis_off()\n",
    "\n",
    "plt.tight_layout()"
   ]
  },
  {
   "cell_type": "code",
   "execution_count": null,
   "metadata": {},
   "outputs": [],
   "source": [
    "time_range = (5.125, 5.135)\n",
    "time_range = (1.000, 1.003)\n",
    "\n",
    "fig, axs = plt.subplots(2, 3)\n",
    "\n",
    "\n",
    "sw.plot_timeseries(sample_recording, time_range=time_range, ax=axs.ravel()[0], channel_ids=channel_ids[::2])\n",
    "\n",
    "recording_f = spre.bandpass_filter(sample_recording, freq_min=10, freq_max=70)\n",
    "sw.plot_timeseries(recording_f, time_range=time_range, ax=axs.ravel()[1], channel_ids=channel_ids[::2])\n",
    "\n",
    "recording_f = spre.bandpass_filter(sample_recording, freq_min=70, freq_max=300)\n",
    "sw.plot_timeseries(recording_f, time_range=time_range, ax=axs.ravel()[2], channel_ids=channel_ids[::2])\n",
    "\n",
    "recording_f = spre.bandpass_filter(sample_recording, freq_min=300, freq_max=5000)\n",
    "sw.plot_timeseries(recording_f, time_range=time_range, ax=axs.ravel()[4], channel_ids=channel_ids[::2])\n",
    "\n",
    "recording_f = spre.bandpass_filter(sample_recording, freq_min=5000, freq_max=6000)\n",
    "sw.plot_timeseries(recording_f, time_range=time_range, ax=axs.ravel()[5], channel_ids=channel_ids[::2])\n",
    "\n",
    "\n",
    "for ax in axs.ravel():\n",
    "    ax.get_yaxis().set_visible(False)\n",
    "    ax.set_xticks(time_range)\n",
    "axs[1, 0].set_axis_off()\n",
    "\n",
    "plt.tight_layout()"
   ]
  },
  {
   "attachments": {},
   "cell_type": "markdown",
   "metadata": {},
   "source": [
    "We see that there are specific low frequencies (10-70 and 70-300) that overshadow the composition of the signal. However, the spike form is not contained in this frequency but in the 300-5000 range. From 5000 onwards we see that the differences in frequency become really small and insignificant."
   ]
  },
  {
   "cell_type": "code",
   "execution_count": null,
   "metadata": {},
   "outputs": [],
   "source": [
    "recording_f = spre.bandpass_filter(sample_recording, freq_min=300, freq_max=5000)"
   ]
  },
  {
   "attachments": {},
   "cell_type": "markdown",
   "metadata": {},
   "source": [
    "The next step is to ise Common Median / Average Reference to \"correct\" part of the signal. We see that the effect is very subtle but, in some cases, it diminishes or amplifies the signal were it is less and more aparent. We are going to use the \"median\" option to avoid overcorrection."
   ]
  },
  {
   "cell_type": "code",
   "execution_count": null,
   "metadata": {},
   "outputs": [],
   "source": [
    "time_range = (3.105, 3.135)\n",
    "\n",
    "fig, axs = plt.subplots(1, 3, figsize=(7, 4))\n",
    "\n",
    "\n",
    "sw.plot_timeseries(recording_f, time_range=time_range, ax=axs.ravel()[0], channel_ids=channel_ids[::2])\n",
    "\n",
    "recording_cmr = spre.common_reference(recording_f, reference='global', operator='median')\n",
    "sw.plot_timeseries(recording_cmr, time_range=time_range, ax=axs.ravel()[1], channel_ids=channel_ids[::2])\n",
    "\n",
    "recording_cmr = spre.common_reference(recording_f, reference='global', operator='average')\n",
    "sw.plot_timeseries(recording_cmr, time_range=time_range, ax=axs.ravel()[2], channel_ids=channel_ids[::2])\n",
    "\n",
    "\n",
    "for ax in axs.ravel():\n",
    "    ax.get_yaxis().set_visible(False)\n",
    "    ax.set_xticks(time_range)\n",
    "\n",
    "plt.tight_layout()"
   ]
  },
  {
   "cell_type": "code",
   "execution_count": null,
   "metadata": {},
   "outputs": [],
   "source": [
    "time_range = (5.11, 5.15)\n",
    "\n",
    "fig, axs = plt.subplots(1, 3, figsize=(7, 4))\n",
    "\n",
    "\n",
    "sw.plot_timeseries(recording_f, time_range=time_range, ax=axs.ravel()[0], channel_ids=channel_ids[::2])\n",
    "\n",
    "recording_cmr = spre.common_reference(recording_f, reference='global', operator='median')\n",
    "sw.plot_timeseries(recording_cmr, time_range=time_range, ax=axs.ravel()[1], channel_ids=channel_ids[::2])\n",
    "\n",
    "recording_cmr = spre.common_reference(recording_f, reference='global', operator='average')\n",
    "sw.plot_timeseries(recording_cmr, time_range=time_range, ax=axs.ravel()[2], channel_ids=channel_ids[::2])\n",
    "\n",
    "\n",
    "for ax in axs.ravel():\n",
    "    ax.get_yaxis().set_visible(False)\n",
    "    ax.set_xticks(time_range)\n",
    "\n",
    "plt.tight_layout()"
   ]
  },
  {
   "cell_type": "code",
   "execution_count": null,
   "metadata": {},
   "outputs": [],
   "source": [
    "recording_cmr = spre.common_reference(recording_f, reference='global', operator='median')\n",
    "recording_preprocessed = recording_cmr.save(format='binary', n_jobs=1)"
   ]
  },
  {
   "cell_type": "code",
   "execution_count": null,
   "metadata": {},
   "outputs": [],
   "source": [
    "# DETECT NOISE\n",
    "\n",
    "noise_levels_int16 = si.get_noise_levels(recording_preprocessed, return_scaled=False)\n",
    "\n",
    "fig, ax = plt.subplots()\n",
    "_ = ax.hist(noise_levels_int16)\n",
    "ax.set_xlabel('noise  [uV]')\n"
   ]
  },
  {
   "cell_type": "code",
   "execution_count": null,
   "metadata": {},
   "outputs": [],
   "source": [
    "# INSERT CODE FOR RECORDING BINARY SAVING\n"
   ]
  },
  {
   "cell_type": "code",
   "execution_count": null,
   "metadata": {},
   "outputs": [],
   "source": [
    "# DETECT AND LOCALISE PEAKS\n",
    "\n",
    "job_kwargs = dict(n_jobs=1, chunk_duration='0.3s', progress_bar=True)\n",
    "peaks = detect_peaks(recording_preprocessed,  method='locally_exclusive', noise_levels=noise_levels_int16,\n",
    "                     detect_threshold=5, local_radius_um=250., **job_kwargs)\n",
    "\n",
    "\n",
    "peak_locations = localize_peaks(recording_preprocessed, peaks, method='center_of_mass', local_radius_um=50., **job_kwargs)"
   ]
  },
  {
   "cell_type": "code",
   "execution_count": null,
   "metadata": {},
   "outputs": [],
   "source": [
    "2.5 * sampling_frequency"
   ]
  },
  {
   "cell_type": "code",
   "execution_count": null,
   "metadata": {},
   "outputs": [],
   "source": [
    "df_peaks = pd.DataFrame(peaks).sort_values(by='sample_ind')\n",
    "df_peaks"
   ]
  },
  {
   "cell_type": "code",
   "execution_count": null,
   "metadata": {},
   "outputs": [],
   "source": [
    "pd.DataFrame(peak_locations)"
   ]
  },
  {
   "cell_type": "code",
   "execution_count": null,
   "metadata": {},
   "outputs": [],
   "source": [
    "fig, ax = plt.subplots(figsize=(10, 8))\n",
    "ax.scatter(peaks['sample_ind'] / sampling_frequency, peak_locations['y'] + peak_locations['x'] / 4, color='k', marker='|', s=100,  alpha=0.1)"
   ]
  },
  {
   "cell_type": "code",
   "execution_count": null,
   "metadata": {},
   "outputs": [],
   "source": [
    "import numba\n",
    "numba.jit(fastmath=True, cache=False)\n"
   ]
  },
  {
   "cell_type": "code",
   "execution_count": null,
   "metadata": {},
   "outputs": [],
   "source": [
    "ss.installed_sorters()"
   ]
  },
  {
   "cell_type": "code",
   "execution_count": null,
   "metadata": {},
   "outputs": [],
   "source": [
    "sorting_SPCR2 = ss.run_sorter('spykingcircus2', recording=recording_preprocessed, output_folder=f'{ROOT}/tmp/SPRC2', docker_image=False)\n",
    "print('Units found by spykingcircus2:', sorting_SPCR2.get_unit_ids())"
   ]
  },
  {
   "cell_type": "code",
   "execution_count": null,
   "metadata": {},
   "outputs": [],
   "source": [
    "rec = recording_preprocessed\n",
    "\n",
    "sorting_TRDC2 = ss.run_sorter('tridesclous2', recording=rec, output_folder=f'{ROOT}/tmp/TRDC2', docker_image=False)\n",
    "print('Units found by tridesclous2:', sorting_TRDC2.get_unit_ids())\n",
    "\n",
    "sorting_pyKS = ss.run_sorter('pykilosort', recording=rec, output_folder=f'{ROOT}/tmp/pyKS', docker_image=True)\n",
    "print('Units found by pykilosort:', sorting_pyKS.get_unit_ids())\n",
    "\n",
    "sorting_SPCR2 = ss.run_sorter('spykingcircus2', recording=rec, output_folder=f'{ROOT}/tmp/SPRC2', docker_image=False)\n",
    "print('Units found by spykingcircus2:', sorting_SPCR2.get_unit_ids())\n",
    "\n",
    "sorting_MS4 = ss.run_sorter('mountainsort4', recording=rec, output_folder=f'{ROOT}/tmp/MS5', docker_image=False)\n",
    "print('Units found by mountainsort4:', sorting_MS4.get_unit_ids())"
   ]
  },
  {
   "cell_type": "code",
   "execution_count": null,
   "metadata": {},
   "outputs": [],
   "source": []
  },
  {
   "cell_type": "code",
   "execution_count": null,
   "metadata": {},
   "outputs": [],
   "source": []
  },
  {
   "cell_type": "code",
   "execution_count": null,
   "metadata": {},
   "outputs": [],
   "source": []
  },
  {
   "cell_type": "code",
   "execution_count": null,
   "metadata": {},
   "outputs": [],
   "source": []
  },
  {
   "cell_type": "code",
   "execution_count": null,
   "metadata": {},
   "outputs": [],
   "source": []
  },
  {
   "cell_type": "code",
   "execution_count": null,
   "metadata": {},
   "outputs": [],
   "source": []
  },
  {
   "cell_type": "code",
   "execution_count": null,
   "metadata": {},
   "outputs": [],
   "source": []
  },
  {
   "cell_type": "code",
   "execution_count": null,
   "metadata": {},
   "outputs": [],
   "source": []
  },
  {
   "cell_type": "code",
   "execution_count": null,
   "metadata": {},
   "outputs": [],
   "source": []
  },
  {
   "cell_type": "code",
   "execution_count": null,
   "metadata": {},
   "outputs": [],
   "source": []
  },
  {
   "cell_type": "code",
   "execution_count": null,
   "metadata": {},
   "outputs": [],
   "source": [
    "channel = 1\n",
    "freqs_ch = [(i[0], i[1]) for i in peaks if i[1] != channel]\n",
    "arr_peaks = np.asarray([recording_cmr.get_traces()[int(freq - 0.001 * sampling_frequency): \n",
    "                                                 int(freq + 0.002 * sampling_frequency), \n",
    "                                                 ch] for freq, ch in freqs_ch])\n",
    "\n",
    "for wave in arr_peaks:\n",
    "    plt.plot(np.arange(len(wave)), wave, alpha=0.4)"
   ]
  },
  {
   "cell_type": "code",
   "execution_count": null,
   "metadata": {},
   "outputs": [],
   "source": [
    "from sklearn.decomposition import PCA\n",
    "\n",
    "pca = PCA(n_components=2, ).fit(arr_peaks.T)\n",
    "pca.explained_variance_ratio_\n",
    "\n",
    "plt.scatter(pca.components_[0], pca.components_[1])"
   ]
  },
  {
   "cell_type": "code",
   "execution_count": null,
   "metadata": {},
   "outputs": [],
   "source": [
    "sss_rec, sss_sort = se.toy_example()\n",
    "sss_rec = si.concatenate_recordings([si.select_segment_recording(sss_rec, segment_indices=0), \n",
    "                           si.select_segment_recording(sss_rec, segment_indices=1)])"
   ]
  },
  {
   "cell_type": "code",
   "execution_count": null,
   "metadata": {},
   "outputs": [],
   "source": [
    "sss_f = spre.bandpass_filter(sss_rec, freq_min=300, freq_max=5000)\n",
    "sss_cmr = spre.common_reference(sss_f, reference='global', operator='median')\n",
    "sss_preprocessed = sss_cmr.save(format='binary', n_jobs=4)"
   ]
  },
  {
   "cell_type": "code",
   "execution_count": null,
   "metadata": {},
   "outputs": [],
   "source": [
    "noise_levels_sss = si.get_noise_levels(sss_preprocessed, return_scaled=False)\n"
   ]
  },
  {
   "cell_type": "code",
   "execution_count": null,
   "metadata": {},
   "outputs": [],
   "source": [
    "\n",
    "job_kwargs = dict(n_jobs=1, chunk_duration='0.3s', progress_bar=True)\n",
    "peaks = detect_peaks(sss_preprocessed,  method='locally_exclusive', noise_levels=noise_levels_sss,\n",
    "                     detect_threshold=5, local_radius_um=50., **job_kwargs)\n",
    "\n",
    "\n",
    "peak_locations = localize_peaks(sss_preprocessed, peaks, method='center_of_mass', local_radius_um=50., **job_kwargs)"
   ]
  },
  {
   "cell_type": "code",
   "execution_count": null,
   "metadata": {},
   "outputs": [],
   "source": [
    "sorting_TRDC2 = ss.run_sorter('tridesclous2', recording=sss_preprocessed, output_folder=f'{ROOT}/tmp/TRDC2', docker_image=False)\n",
    "print('Units found by tridesclous2:', sorting_TRDC2.get_unit_ids())"
   ]
  },
  {
   "cell_type": "code",
   "execution_count": null,
   "metadata": {},
   "outputs": [],
   "source": [
    "sorting_pyKS = ss.run_sorter('pykilosort', recording=sss_preprocessed, output_folder=f'{ROOT}/tmp/pyKS', docker_image=True)\n",
    "print('Units found by pykilosort:', sorting_pyKS.get_unit_ids())"
   ]
  },
  {
   "cell_type": "code",
   "execution_count": null,
   "metadata": {},
   "outputs": [],
   "source": [
    "sorting_SPCR2 = ss.run_sorter('spykingcircus2', recording=sss_preprocessed, output_folder=f'{ROOT}/tmp/SPRC2', docker_image=False)\n",
    "print('Units found by spykingcircus2:', sorting_SPCR2.get_unit_ids())"
   ]
  },
  {
   "cell_type": "code",
   "execution_count": null,
   "metadata": {},
   "outputs": [],
   "source": [
    "sorting_MS4 = ss.run_sorter('mountainsort4', recording=sss_preprocessed, output_folder=f'{ROOT}/tmp/MS5', docker_image=False)\n",
    "print('Units found by mountainsort4:', sorting_MS4.get_unit_ids())"
   ]
  },
  {
   "cell_type": "code",
   "execution_count": null,
   "metadata": {},
   "outputs": [],
   "source": []
  }
 ],
 "metadata": {
  "kernelspec": {
   "display_name": "nanoneuro",
   "language": "python",
   "name": "python3"
  },
  "language_info": {
   "codemirror_mode": {
    "name": "ipython",
    "version": 3
   },
   "file_extension": ".py",
   "mimetype": "text/x-python",
   "name": "python",
   "nbconvert_exporter": "python",
   "pygments_lexer": "ipython3",
   "version": "3.9.19"
  },
  "orig_nbformat": 4
 },
 "nbformat": 4,
 "nbformat_minor": 2
}
