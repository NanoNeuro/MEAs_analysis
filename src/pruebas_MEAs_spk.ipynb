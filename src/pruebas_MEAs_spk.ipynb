{
 "cells": [
  {
   "cell_type": "code",
   "execution_count": 20,
   "metadata": {},
   "outputs": [],
   "source": [
    "import pandas as pd\n",
    "import matplotlib.pyplot as plt"
   ]
  },
  {
   "cell_type": "code",
   "execution_count": 18,
   "metadata": {},
   "outputs": [],
   "source": [
    "time_raw = pd.read_csv('/home/nanoneuro/VirtualBox_shared/Nanoneuro/data/p2.+-1000mV.500us(000)/3-3-1-2_timeRaw.txt', names=['time'])\n",
    "voltage_raw = pd.read_csv('/home/nanoneuro/VirtualBox_shared/Nanoneuro/data/p2.+-1000mV.500us(000)/3-3-1-2_voltageRaw.txt', names=['voltage'])\n",
    "df_raw = pd.concat([time_raw, voltage_raw], axis=1)"
   ]
  },
  {
   "cell_type": "code",
   "execution_count": 19,
   "metadata": {},
   "outputs": [
    {
     "data": {
      "text/html": [
       "<div>\n",
       "<style scoped>\n",
       "    .dataframe tbody tr th:only-of-type {\n",
       "        vertical-align: middle;\n",
       "    }\n",
       "\n",
       "    .dataframe tbody tr th {\n",
       "        vertical-align: top;\n",
       "    }\n",
       "\n",
       "    .dataframe thead th {\n",
       "        text-align: right;\n",
       "    }\n",
       "</style>\n",
       "<table border=\"1\" class=\"dataframe\">\n",
       "  <thead>\n",
       "    <tr style=\"text-align: right;\">\n",
       "      <th></th>\n",
       "      <th>time</th>\n",
       "      <th>voltage</th>\n",
       "    </tr>\n",
       "  </thead>\n",
       "  <tbody>\n",
       "    <tr>\n",
       "      <th>0</th>\n",
       "      <td>0.00000</td>\n",
       "      <td>2.029399e-06</td>\n",
       "    </tr>\n",
       "    <tr>\n",
       "      <th>1</th>\n",
       "      <td>0.00008</td>\n",
       "      <td>1.316367e-06</td>\n",
       "    </tr>\n",
       "    <tr>\n",
       "      <th>2</th>\n",
       "      <td>0.00016</td>\n",
       "      <td>-9.872751e-07</td>\n",
       "    </tr>\n",
       "    <tr>\n",
       "      <th>3</th>\n",
       "      <td>0.00024</td>\n",
       "      <td>-1.810004e-06</td>\n",
       "    </tr>\n",
       "    <tr>\n",
       "      <th>4</th>\n",
       "      <td>0.00032</td>\n",
       "      <td>-1.151821e-06</td>\n",
       "    </tr>\n",
       "    <tr>\n",
       "      <th>...</th>\n",
       "      <td>...</td>\n",
       "      <td>...</td>\n",
       "    </tr>\n",
       "    <tr>\n",
       "      <th>121870</th>\n",
       "      <td>9.74960</td>\n",
       "      <td>-9.324265e-07</td>\n",
       "    </tr>\n",
       "    <tr>\n",
       "      <th>121871</th>\n",
       "      <td>9.74968</td>\n",
       "      <td>-3.290917e-07</td>\n",
       "    </tr>\n",
       "    <tr>\n",
       "      <th>121872</th>\n",
       "      <td>9.74976</td>\n",
       "      <td>-1.042124e-06</td>\n",
       "    </tr>\n",
       "    <tr>\n",
       "      <th>121873</th>\n",
       "      <td>9.74984</td>\n",
       "      <td>-3.126371e-06</td>\n",
       "    </tr>\n",
       "    <tr>\n",
       "      <th>121874</th>\n",
       "      <td>9.74992</td>\n",
       "      <td>-3.784555e-06</td>\n",
       "    </tr>\n",
       "  </tbody>\n",
       "</table>\n",
       "<p>121875 rows × 2 columns</p>\n",
       "</div>"
      ],
      "text/plain": [
       "           time       voltage\n",
       "0       0.00000  2.029399e-06\n",
       "1       0.00008  1.316367e-06\n",
       "2       0.00016 -9.872751e-07\n",
       "3       0.00024 -1.810004e-06\n",
       "4       0.00032 -1.151821e-06\n",
       "...         ...           ...\n",
       "121870  9.74960 -9.324265e-07\n",
       "121871  9.74968 -3.290917e-07\n",
       "121872  9.74976 -1.042124e-06\n",
       "121873  9.74984 -3.126371e-06\n",
       "121874  9.74992 -3.784555e-06\n",
       "\n",
       "[121875 rows x 2 columns]"
      ]
     },
     "execution_count": 19,
     "metadata": {},
     "output_type": "execute_result"
    }
   ],
   "source": [
    "df_raw"
   ]
  },
  {
   "cell_type": "code",
   "execution_count": 22,
   "metadata": {},
   "outputs": [
    {
     "data": {
      "text/plain": [
       "[<matplotlib.lines.Line2D at 0x7f847fbad450>]"
      ]
     },
     "execution_count": 22,
     "metadata": {},
     "output_type": "execute_result"
    },
    {
     "data": {
      "image/png": "[encoded data removed]",
      "text/plain": [
       "<Figure size 640x480 with 1 Axes>"
      ]
     },
     "metadata": {},
     "output_type": "display_data"
    }
   ],
   "source": [
    "plt.plot(df_raw['time'].iloc[:10000], df_raw['voltage'].iloc[:10000])\n"
   ]
  },
  {
   "cell_type": "code",
   "execution_count": 17,
   "metadata": {},
   "outputs": [
    {
     "data": {
      "text/html": [
       "<div>\n",
       "<style scoped>\n",
       "    .dataframe tbody tr th:only-of-type {\n",
       "        vertical-align: middle;\n",
       "    }\n",
       "\n",
       "    .dataframe tbody tr th {\n",
       "        vertical-align: top;\n",
       "    }\n",
       "\n",
       "    .dataframe thead th {\n",
       "        text-align: right;\n",
       "    }\n",
       "</style>\n",
       "<table border=\"1\" class=\"dataframe\">\n",
       "  <thead>\n",
       "    <tr style=\"text-align: right;\">\n",
       "      <th></th>\n",
       "      <th>voltage</th>\n",
       "    </tr>\n",
       "  </thead>\n",
       "  <tbody>\n",
       "    <tr>\n",
       "      <th>0</th>\n",
       "      <td>2.029399e-06</td>\n",
       "    </tr>\n",
       "    <tr>\n",
       "      <th>1</th>\n",
       "      <td>1.316367e-06</td>\n",
       "    </tr>\n",
       "    <tr>\n",
       "      <th>2</th>\n",
       "      <td>-9.872751e-07</td>\n",
       "    </tr>\n",
       "    <tr>\n",
       "      <th>3</th>\n",
       "      <td>-1.810004e-06</td>\n",
       "    </tr>\n",
       "    <tr>\n",
       "      <th>4</th>\n",
       "      <td>-1.151821e-06</td>\n",
       "    </tr>\n",
       "    <tr>\n",
       "      <th>...</th>\n",
       "      <td>...</td>\n",
       "    </tr>\n",
       "    <tr>\n",
       "      <th>121870</th>\n",
       "      <td>-9.324265e-07</td>\n",
       "    </tr>\n",
       "    <tr>\n",
       "      <th>121871</th>\n",
       "      <td>-3.290917e-07</td>\n",
       "    </tr>\n",
       "    <tr>\n",
       "      <th>121872</th>\n",
       "      <td>-1.042124e-06</td>\n",
       "    </tr>\n",
       "    <tr>\n",
       "      <th>121873</th>\n",
       "      <td>-3.126371e-06</td>\n",
       "    </tr>\n",
       "    <tr>\n",
       "      <th>121874</th>\n",
       "      <td>-3.784555e-06</td>\n",
       "    </tr>\n",
       "  </tbody>\n",
       "</table>\n",
       "<p>121875 rows × 1 columns</p>\n",
       "</div>"
      ],
      "text/plain": [
       "             voltage\n",
       "0       2.029399e-06\n",
       "1       1.316367e-06\n",
       "2      -9.872751e-07\n",
       "3      -1.810004e-06\n",
       "4      -1.151821e-06\n",
       "...              ...\n",
       "121870 -9.324265e-07\n",
       "121871 -3.290917e-07\n",
       "121872 -1.042124e-06\n",
       "121873 -3.126371e-06\n",
       "121874 -3.784555e-06\n",
       "\n",
       "[121875 rows x 1 columns]"
      ]
     },
     "execution_count": 17,
     "metadata": {},
     "output_type": "execute_result"
    }
   ],
   "source": [
    "voltage_raw"
   ]
  }
 ],
 "metadata": {
  "kernelspec": {
   "display_name": "nanoneuro",
   "language": "python",
   "name": "python3"
  },
  "language_info": {
   "codemirror_mode": {
    "name": "ipython",
    "version": 3
   },
   "file_extension": ".py",
   "mimetype": "text/x-python",
   "name": "python",
   "nbconvert_exporter": "python",
   "pygments_lexer": "ipython3",
   "version": "3.11.3"
  },
  "orig_nbformat": 4
 },
 "nbformat": 4,
 "nbformat_minor": 2
}
